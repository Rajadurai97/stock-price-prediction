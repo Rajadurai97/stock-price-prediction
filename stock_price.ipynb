{
  "nbformat": 4,
  "nbformat_minor": 0,
  "metadata": {
    "colab": {
      "name": "stock price.ipynb",
      "provenance": [],
      "authorship_tag": "ABX9TyNNyTo2LMIdT30X6k2sNpnc",
      "include_colab_link": true
    },
    "kernelspec": {
      "name": "python3",
      "display_name": "Python 3"
    }
  },
  "cells": [
    {
      "cell_type": "markdown",
      "metadata": {
        "id": "view-in-github",
        "colab_type": "text"
      },
      "source": [
        "<a href=\"https://colab.research.google.com/github/Rajadurai97/stock-price-prediction/blob/main/stock_price.ipynb\" target=\"_parent\"><img src=\"https://colab.research.google.com/assets/colab-badge.svg\" alt=\"Open In Colab\"/></a>"
      ]
    },
    {
      "cell_type": "code",
      "metadata": {
        "id": "YmM8pQmzqVe1"
      },
      "source": [
        "import quandl\r\n",
        "import pandas as pd\r\n",
        "import numpy as np\r\n",
        "import math\r\n",
        "from sklearn import preprocessing, svm\r\n",
        "from sklearn.linear_model import LinearRegression"
      ],
      "execution_count": null,
      "outputs": []
    },
    {
      "cell_type": "code",
      "metadata": {
        "id": "z3iVd-puqFOx"
      },
      "source": [
        "quandl.ApiConfig.api_key = \"ZBW1ZvS8-UhrSYcxaCRf\""
      ],
      "execution_count": null,
      "outputs": []
    },
    {
      "cell_type": "code",
      "metadata": {
        "id": "ru58g0fGqb6V"
      },
      "source": [
        "df = quandl.get(\"EOD/AAPL\")"
      ],
      "execution_count": null,
      "outputs": []
    },
    {
      "cell_type": "code",
      "metadata": {
        "colab": {
          "base_uri": "https://localhost:8080/",
          "height": 377
        },
        "id": "BKuZU0bUvJ2I",
        "outputId": "5a1fd079-10db-4b22-c43d-0028304f3e3a"
      },
      "source": [
        "df.head(10)"
      ],
      "execution_count": null,
      "outputs": [
        {
          "output_type": "execute_result",
          "data": {
            "text/html": [
              "<div>\n",
              "<style scoped>\n",
              "    .dataframe tbody tr th:only-of-type {\n",
              "        vertical-align: middle;\n",
              "    }\n",
              "\n",
              "    .dataframe tbody tr th {\n",
              "        vertical-align: top;\n",
              "    }\n",
              "\n",
              "    .dataframe thead th {\n",
              "        text-align: right;\n",
              "    }\n",
              "</style>\n",
              "<table border=\"1\" class=\"dataframe\">\n",
              "  <thead>\n",
              "    <tr style=\"text-align: right;\">\n",
              "      <th></th>\n",
              "      <th>Open</th>\n",
              "      <th>High</th>\n",
              "      <th>Low</th>\n",
              "      <th>Close</th>\n",
              "      <th>Volume</th>\n",
              "      <th>Dividend</th>\n",
              "      <th>Split</th>\n",
              "      <th>Adj_Open</th>\n",
              "      <th>Adj_High</th>\n",
              "      <th>Adj_Low</th>\n",
              "      <th>Adj_Close</th>\n",
              "      <th>Adj_Volume</th>\n",
              "    </tr>\n",
              "    <tr>\n",
              "      <th>Date</th>\n",
              "      <th></th>\n",
              "      <th></th>\n",
              "      <th></th>\n",
              "      <th></th>\n",
              "      <th></th>\n",
              "      <th></th>\n",
              "      <th></th>\n",
              "      <th></th>\n",
              "      <th></th>\n",
              "      <th></th>\n",
              "      <th></th>\n",
              "      <th></th>\n",
              "    </tr>\n",
              "  </thead>\n",
              "  <tbody>\n",
              "    <tr>\n",
              "      <th>2013-09-03</th>\n",
              "      <td>493.1000</td>\n",
              "      <td>500.6000</td>\n",
              "      <td>487.35</td>\n",
              "      <td>488.580</td>\n",
              "      <td>11854600.0</td>\n",
              "      <td>0.0</td>\n",
              "      <td>1.0</td>\n",
              "      <td>15.619650</td>\n",
              "      <td>15.857223</td>\n",
              "      <td>15.437510</td>\n",
              "      <td>15.476472</td>\n",
              "      <td>331928800.0</td>\n",
              "    </tr>\n",
              "    <tr>\n",
              "      <th>2013-09-04</th>\n",
              "      <td>499.5600</td>\n",
              "      <td>502.2400</td>\n",
              "      <td>496.28</td>\n",
              "      <td>498.691</td>\n",
              "      <td>12322600.0</td>\n",
              "      <td>0.0</td>\n",
              "      <td>1.0</td>\n",
              "      <td>15.824280</td>\n",
              "      <td>15.909173</td>\n",
              "      <td>15.720381</td>\n",
              "      <td>15.796753</td>\n",
              "      <td>345032800.0</td>\n",
              "    </tr>\n",
              "    <tr>\n",
              "      <th>2013-09-05</th>\n",
              "      <td>500.2500</td>\n",
              "      <td>500.6800</td>\n",
              "      <td>493.64</td>\n",
              "      <td>495.270</td>\n",
              "      <td>8441700.0</td>\n",
              "      <td>0.0</td>\n",
              "      <td>1.0</td>\n",
              "      <td>15.846136</td>\n",
              "      <td>15.859757</td>\n",
              "      <td>15.636755</td>\n",
              "      <td>15.688388</td>\n",
              "      <td>236367600.0</td>\n",
              "    </tr>\n",
              "    <tr>\n",
              "      <th>2013-09-06</th>\n",
              "      <td>498.4400</td>\n",
              "      <td>499.3800</td>\n",
              "      <td>489.95</td>\n",
              "      <td>498.220</td>\n",
              "      <td>12840200.0</td>\n",
              "      <td>0.0</td>\n",
              "      <td>1.0</td>\n",
              "      <td>15.788802</td>\n",
              "      <td>15.818578</td>\n",
              "      <td>15.519869</td>\n",
              "      <td>15.781833</td>\n",
              "      <td>359525600.0</td>\n",
              "    </tr>\n",
              "    <tr>\n",
              "      <th>2013-09-09</th>\n",
              "      <td>505.0000</td>\n",
              "      <td>507.9200</td>\n",
              "      <td>503.48</td>\n",
              "      <td>506.170</td>\n",
              "      <td>12167400.0</td>\n",
              "      <td>0.0</td>\n",
              "      <td>1.0</td>\n",
              "      <td>15.996600</td>\n",
              "      <td>16.089095</td>\n",
              "      <td>15.948451</td>\n",
              "      <td>16.033661</td>\n",
              "      <td>340687200.0</td>\n",
              "    </tr>\n",
              "    <tr>\n",
              "      <th>2013-09-10</th>\n",
              "      <td>506.2000</td>\n",
              "      <td>507.4500</td>\n",
              "      <td>489.50</td>\n",
              "      <td>494.640</td>\n",
              "      <td>26542700.0</td>\n",
              "      <td>0.0</td>\n",
              "      <td>1.0</td>\n",
              "      <td>16.034611</td>\n",
              "      <td>16.074207</td>\n",
              "      <td>15.505615</td>\n",
              "      <td>15.668432</td>\n",
              "      <td>743195600.0</td>\n",
              "    </tr>\n",
              "    <tr>\n",
              "      <th>2013-09-11</th>\n",
              "      <td>467.0101</td>\n",
              "      <td>473.6900</td>\n",
              "      <td>464.81</td>\n",
              "      <td>467.710</td>\n",
              "      <td>32096300.0</td>\n",
              "      <td>0.0</td>\n",
              "      <td>1.0</td>\n",
              "      <td>14.793215</td>\n",
              "      <td>15.004810</td>\n",
              "      <td>14.723524</td>\n",
              "      <td>14.815385</td>\n",
              "      <td>898696400.0</td>\n",
              "    </tr>\n",
              "    <tr>\n",
              "      <th>2013-09-12</th>\n",
              "      <td>468.5000</td>\n",
              "      <td>475.4000</td>\n",
              "      <td>466.01</td>\n",
              "      <td>472.690</td>\n",
              "      <td>14430400.0</td>\n",
              "      <td>0.0</td>\n",
              "      <td>1.0</td>\n",
              "      <td>14.840410</td>\n",
              "      <td>15.058977</td>\n",
              "      <td>14.761535</td>\n",
              "      <td>14.973134</td>\n",
              "      <td>404051200.0</td>\n",
              "    </tr>\n",
              "    <tr>\n",
              "      <th>2013-09-13</th>\n",
              "      <td>469.3402</td>\n",
              "      <td>471.8292</td>\n",
              "      <td>464.70</td>\n",
              "      <td>464.900</td>\n",
              "      <td>10672700.0</td>\n",
              "      <td>0.0</td>\n",
              "      <td>1.0</td>\n",
              "      <td>14.867024</td>\n",
              "      <td>14.945867</td>\n",
              "      <td>14.720039</td>\n",
              "      <td>14.726374</td>\n",
              "      <td>298835600.0</td>\n",
              "    </tr>\n",
              "    <tr>\n",
              "      <th>2013-09-16</th>\n",
              "      <td>461.0000</td>\n",
              "      <td>461.6099</td>\n",
              "      <td>447.22</td>\n",
              "      <td>450.120</td>\n",
              "      <td>19418100.0</td>\n",
              "      <td>0.0</td>\n",
              "      <td>1.0</td>\n",
              "      <td>14.602836</td>\n",
              "      <td>14.622156</td>\n",
              "      <td>14.166335</td>\n",
              "      <td>14.258197</td>\n",
              "      <td>543706800.0</td>\n",
              "    </tr>\n",
              "  </tbody>\n",
              "</table>\n",
              "</div>"
            ],
            "text/plain": [
              "                Open      High     Low  ...    Adj_Low  Adj_Close   Adj_Volume\n",
              "Date                                    ...                                   \n",
              "2013-09-03  493.1000  500.6000  487.35  ...  15.437510  15.476472  331928800.0\n",
              "2013-09-04  499.5600  502.2400  496.28  ...  15.720381  15.796753  345032800.0\n",
              "2013-09-05  500.2500  500.6800  493.64  ...  15.636755  15.688388  236367600.0\n",
              "2013-09-06  498.4400  499.3800  489.95  ...  15.519869  15.781833  359525600.0\n",
              "2013-09-09  505.0000  507.9200  503.48  ...  15.948451  16.033661  340687200.0\n",
              "2013-09-10  506.2000  507.4500  489.50  ...  15.505615  15.668432  743195600.0\n",
              "2013-09-11  467.0101  473.6900  464.81  ...  14.723524  14.815385  898696400.0\n",
              "2013-09-12  468.5000  475.4000  466.01  ...  14.761535  14.973134  404051200.0\n",
              "2013-09-13  469.3402  471.8292  464.70  ...  14.720039  14.726374  298835600.0\n",
              "2013-09-16  461.0000  461.6099  447.22  ...  14.166335  14.258197  543706800.0\n",
              "\n",
              "[10 rows x 12 columns]"
            ]
          },
          "metadata": {
            "tags": []
          },
          "execution_count": 6
        }
      ]
    },
    {
      "cell_type": "code",
      "metadata": {
        "colab": {
          "base_uri": "https://localhost:8080/"
        },
        "id": "QUfwJAxUvsJA",
        "outputId": "bf14fa7c-f6df-48c4-decb-be0349e7a685"
      },
      "source": [
        "df.columns"
      ],
      "execution_count": null,
      "outputs": [
        {
          "output_type": "execute_result",
          "data": {
            "text/plain": [
              "Index(['Open', 'High', 'Low', 'Close', 'Volume', 'Dividend', 'Split',\n",
              "       'Adj_Open', 'Adj_High', 'Adj_Low', 'Adj_Close', 'Adj_Volume'],\n",
              "      dtype='object')"
            ]
          },
          "metadata": {
            "tags": []
          },
          "execution_count": 8
        }
      ]
    },
    {
      "cell_type": "code",
      "metadata": {
        "colab": {
          "base_uri": "https://localhost:8080/"
        },
        "id": "mFATg3wcvsED",
        "outputId": "20efe37d-6eda-43d9-b370-1fb03c7fde8d"
      },
      "source": [
        "df.shape"
      ],
      "execution_count": null,
      "outputs": [
        {
          "output_type": "execute_result",
          "data": {
            "text/plain": [
              "(1090, 12)"
            ]
          },
          "metadata": {
            "tags": []
          },
          "execution_count": 10
        }
      ]
    },
    {
      "cell_type": "code",
      "metadata": {
        "colab": {
          "base_uri": "https://localhost:8080/"
        },
        "id": "L0us33Zgvr9R",
        "outputId": "a29e2f17-f14f-4fa9-f940-cb1d2f8c8d92"
      },
      "source": [
        "df.isnull().sum()"
      ],
      "execution_count": null,
      "outputs": [
        {
          "output_type": "execute_result",
          "data": {
            "text/plain": [
              "Open          0\n",
              "High          0\n",
              "Low           0\n",
              "Close         0\n",
              "Volume        0\n",
              "Dividend      0\n",
              "Split         0\n",
              "Adj_Open      0\n",
              "Adj_High      0\n",
              "Adj_Low       0\n",
              "Adj_Close     0\n",
              "Adj_Volume    0\n",
              "dtype: int64"
            ]
          },
          "metadata": {
            "tags": []
          },
          "execution_count": 12
        }
      ]
    },
    {
      "cell_type": "markdown",
      "metadata": {
        "id": "c2qUvAfKUstW"
      },
      "source": [
        "**Data manipulation & Feature engineering**"
      ]
    },
    {
      "cell_type": "code",
      "metadata": {
        "id": "NRoasnmPvr34"
      },
      "source": [
        "df['HL_PCT'] = df['Adj_High'] - df['Adj_Low'] / df['Adj_Close'] *100.0 #High low percentage\r\n",
        "df['PCT_change'] = df['Adj_Close'] - df['Adj_Open'] / df['Adj_Open'] *100.0 #percentage change"
      ],
      "execution_count": null,
      "outputs": []
    },
    {
      "cell_type": "code",
      "metadata": {
        "colab": {
          "base_uri": "https://localhost:8080/",
          "height": 377
        },
        "id": "h7fBNnYWvrw_",
        "outputId": "9be62eed-2b03-4cc2-d8ad-d94a7fb42de9"
      },
      "source": [
        "df.head(10)"
      ],
      "execution_count": null,
      "outputs": [
        {
          "output_type": "execute_result",
          "data": {
            "text/html": [
              "<div>\n",
              "<style scoped>\n",
              "    .dataframe tbody tr th:only-of-type {\n",
              "        vertical-align: middle;\n",
              "    }\n",
              "\n",
              "    .dataframe tbody tr th {\n",
              "        vertical-align: top;\n",
              "    }\n",
              "\n",
              "    .dataframe thead th {\n",
              "        text-align: right;\n",
              "    }\n",
              "</style>\n",
              "<table border=\"1\" class=\"dataframe\">\n",
              "  <thead>\n",
              "    <tr style=\"text-align: right;\">\n",
              "      <th></th>\n",
              "      <th>Open</th>\n",
              "      <th>High</th>\n",
              "      <th>Low</th>\n",
              "      <th>Close</th>\n",
              "      <th>Volume</th>\n",
              "      <th>Dividend</th>\n",
              "      <th>Split</th>\n",
              "      <th>Adj_Open</th>\n",
              "      <th>Adj_High</th>\n",
              "      <th>Adj_Low</th>\n",
              "      <th>Adj_Close</th>\n",
              "      <th>Adj_Volume</th>\n",
              "      <th>HL_PCT</th>\n",
              "      <th>PCT_change</th>\n",
              "    </tr>\n",
              "    <tr>\n",
              "      <th>Date</th>\n",
              "      <th></th>\n",
              "      <th></th>\n",
              "      <th></th>\n",
              "      <th></th>\n",
              "      <th></th>\n",
              "      <th></th>\n",
              "      <th></th>\n",
              "      <th></th>\n",
              "      <th></th>\n",
              "      <th></th>\n",
              "      <th></th>\n",
              "      <th></th>\n",
              "      <th></th>\n",
              "      <th></th>\n",
              "    </tr>\n",
              "  </thead>\n",
              "  <tbody>\n",
              "    <tr>\n",
              "      <th>2013-09-03</th>\n",
              "      <td>493.1000</td>\n",
              "      <td>500.6000</td>\n",
              "      <td>487.35</td>\n",
              "      <td>488.580</td>\n",
              "      <td>11854600.0</td>\n",
              "      <td>0.0</td>\n",
              "      <td>1.0</td>\n",
              "      <td>15.619650</td>\n",
              "      <td>15.857223</td>\n",
              "      <td>15.437510</td>\n",
              "      <td>15.476472</td>\n",
              "      <td>331928800.0</td>\n",
              "      <td>-83.891027</td>\n",
              "      <td>-84.523528</td>\n",
              "    </tr>\n",
              "    <tr>\n",
              "      <th>2013-09-04</th>\n",
              "      <td>499.5600</td>\n",
              "      <td>502.2400</td>\n",
              "      <td>496.28</td>\n",
              "      <td>498.691</td>\n",
              "      <td>12322600.0</td>\n",
              "      <td>0.0</td>\n",
              "      <td>1.0</td>\n",
              "      <td>15.824280</td>\n",
              "      <td>15.909173</td>\n",
              "      <td>15.720381</td>\n",
              "      <td>15.796753</td>\n",
              "      <td>345032800.0</td>\n",
              "      <td>-83.607362</td>\n",
              "      <td>-84.203247</td>\n",
              "    </tr>\n",
              "    <tr>\n",
              "      <th>2013-09-05</th>\n",
              "      <td>500.2500</td>\n",
              "      <td>500.6800</td>\n",
              "      <td>493.64</td>\n",
              "      <td>495.270</td>\n",
              "      <td>8441700.0</td>\n",
              "      <td>0.0</td>\n",
              "      <td>1.0</td>\n",
              "      <td>15.846136</td>\n",
              "      <td>15.859757</td>\n",
              "      <td>15.636755</td>\n",
              "      <td>15.688388</td>\n",
              "      <td>236367600.0</td>\n",
              "      <td>-83.811129</td>\n",
              "      <td>-84.311612</td>\n",
              "    </tr>\n",
              "    <tr>\n",
              "      <th>2013-09-06</th>\n",
              "      <td>498.4400</td>\n",
              "      <td>499.3800</td>\n",
              "      <td>489.95</td>\n",
              "      <td>498.220</td>\n",
              "      <td>12840200.0</td>\n",
              "      <td>0.0</td>\n",
              "      <td>1.0</td>\n",
              "      <td>15.788802</td>\n",
              "      <td>15.818578</td>\n",
              "      <td>15.519869</td>\n",
              "      <td>15.781833</td>\n",
              "      <td>359525600.0</td>\n",
              "      <td>-82.521513</td>\n",
              "      <td>-84.218167</td>\n",
              "    </tr>\n",
              "    <tr>\n",
              "      <th>2013-09-09</th>\n",
              "      <td>505.0000</td>\n",
              "      <td>507.9200</td>\n",
              "      <td>503.48</td>\n",
              "      <td>506.170</td>\n",
              "      <td>12167400.0</td>\n",
              "      <td>0.0</td>\n",
              "      <td>1.0</td>\n",
              "      <td>15.996600</td>\n",
              "      <td>16.089095</td>\n",
              "      <td>15.948451</td>\n",
              "      <td>16.033661</td>\n",
              "      <td>340687200.0</td>\n",
              "      <td>-83.379463</td>\n",
              "      <td>-83.966339</td>\n",
              "    </tr>\n",
              "    <tr>\n",
              "      <th>2013-09-10</th>\n",
              "      <td>506.2000</td>\n",
              "      <td>507.4500</td>\n",
              "      <td>489.50</td>\n",
              "      <td>494.640</td>\n",
              "      <td>26542700.0</td>\n",
              "      <td>0.0</td>\n",
              "      <td>1.0</td>\n",
              "      <td>16.034611</td>\n",
              "      <td>16.074207</td>\n",
              "      <td>15.505615</td>\n",
              "      <td>15.668432</td>\n",
              "      <td>743195600.0</td>\n",
              "      <td>-82.886654</td>\n",
              "      <td>-84.331568</td>\n",
              "    </tr>\n",
              "    <tr>\n",
              "      <th>2013-09-11</th>\n",
              "      <td>467.0101</td>\n",
              "      <td>473.6900</td>\n",
              "      <td>464.81</td>\n",
              "      <td>467.710</td>\n",
              "      <td>32096300.0</td>\n",
              "      <td>0.0</td>\n",
              "      <td>1.0</td>\n",
              "      <td>14.793215</td>\n",
              "      <td>15.004810</td>\n",
              "      <td>14.723524</td>\n",
              "      <td>14.815385</td>\n",
              "      <td>898696400.0</td>\n",
              "      <td>-84.375147</td>\n",
              "      <td>-85.184615</td>\n",
              "    </tr>\n",
              "    <tr>\n",
              "      <th>2013-09-12</th>\n",
              "      <td>468.5000</td>\n",
              "      <td>475.4000</td>\n",
              "      <td>466.01</td>\n",
              "      <td>472.690</td>\n",
              "      <td>14430400.0</td>\n",
              "      <td>0.0</td>\n",
              "      <td>1.0</td>\n",
              "      <td>14.840410</td>\n",
              "      <td>15.058977</td>\n",
              "      <td>14.761535</td>\n",
              "      <td>14.973134</td>\n",
              "      <td>404051200.0</td>\n",
              "      <td>-83.527835</td>\n",
              "      <td>-85.026866</td>\n",
              "    </tr>\n",
              "    <tr>\n",
              "      <th>2013-09-13</th>\n",
              "      <td>469.3402</td>\n",
              "      <td>471.8292</td>\n",
              "      <td>464.70</td>\n",
              "      <td>464.900</td>\n",
              "      <td>10672700.0</td>\n",
              "      <td>0.0</td>\n",
              "      <td>1.0</td>\n",
              "      <td>14.867024</td>\n",
              "      <td>14.945867</td>\n",
              "      <td>14.720039</td>\n",
              "      <td>14.726374</td>\n",
              "      <td>298835600.0</td>\n",
              "      <td>-85.011113</td>\n",
              "      <td>-85.273626</td>\n",
              "    </tr>\n",
              "    <tr>\n",
              "      <th>2013-09-16</th>\n",
              "      <td>461.0000</td>\n",
              "      <td>461.6099</td>\n",
              "      <td>447.22</td>\n",
              "      <td>450.120</td>\n",
              "      <td>19418100.0</td>\n",
              "      <td>0.0</td>\n",
              "      <td>1.0</td>\n",
              "      <td>14.602836</td>\n",
              "      <td>14.622156</td>\n",
              "      <td>14.166335</td>\n",
              "      <td>14.258197</td>\n",
              "      <td>543706800.0</td>\n",
              "      <td>-84.733572</td>\n",
              "      <td>-85.741803</td>\n",
              "    </tr>\n",
              "  </tbody>\n",
              "</table>\n",
              "</div>"
            ],
            "text/plain": [
              "                Open      High     Low  ...   Adj_Volume     HL_PCT  PCT_change\n",
              "Date                                    ...                                    \n",
              "2013-09-03  493.1000  500.6000  487.35  ...  331928800.0 -83.891027  -84.523528\n",
              "2013-09-04  499.5600  502.2400  496.28  ...  345032800.0 -83.607362  -84.203247\n",
              "2013-09-05  500.2500  500.6800  493.64  ...  236367600.0 -83.811129  -84.311612\n",
              "2013-09-06  498.4400  499.3800  489.95  ...  359525600.0 -82.521513  -84.218167\n",
              "2013-09-09  505.0000  507.9200  503.48  ...  340687200.0 -83.379463  -83.966339\n",
              "2013-09-10  506.2000  507.4500  489.50  ...  743195600.0 -82.886654  -84.331568\n",
              "2013-09-11  467.0101  473.6900  464.81  ...  898696400.0 -84.375147  -85.184615\n",
              "2013-09-12  468.5000  475.4000  466.01  ...  404051200.0 -83.527835  -85.026866\n",
              "2013-09-13  469.3402  471.8292  464.70  ...  298835600.0 -85.011113  -85.273626\n",
              "2013-09-16  461.0000  461.6099  447.22  ...  543706800.0 -84.733572  -85.741803\n",
              "\n",
              "[10 rows x 14 columns]"
            ]
          },
          "metadata": {
            "tags": []
          },
          "execution_count": 14
        }
      ]
    },
    {
      "cell_type": "code",
      "metadata": {
        "id": "XX_vovpevriM"
      },
      "source": [
        "df2 = df[['Adj_Close','PCT_change','HL_PCT','Adj_Volume']]"
      ],
      "execution_count": null,
      "outputs": []
    },
    {
      "cell_type": "code",
      "metadata": {
        "colab": {
          "base_uri": "https://localhost:8080/",
          "height": 227
        },
        "id": "gBKGiRf_vrZH",
        "outputId": "1118c078-10cf-4a5b-bbb4-45270733faf5"
      },
      "source": [
        "df2.head()"
      ],
      "execution_count": null,
      "outputs": [
        {
          "output_type": "execute_result",
          "data": {
            "text/html": [
              "<div>\n",
              "<style scoped>\n",
              "    .dataframe tbody tr th:only-of-type {\n",
              "        vertical-align: middle;\n",
              "    }\n",
              "\n",
              "    .dataframe tbody tr th {\n",
              "        vertical-align: top;\n",
              "    }\n",
              "\n",
              "    .dataframe thead th {\n",
              "        text-align: right;\n",
              "    }\n",
              "</style>\n",
              "<table border=\"1\" class=\"dataframe\">\n",
              "  <thead>\n",
              "    <tr style=\"text-align: right;\">\n",
              "      <th></th>\n",
              "      <th>Adj_Close</th>\n",
              "      <th>PCT_change</th>\n",
              "      <th>HL_PCT</th>\n",
              "      <th>Adj_Volume</th>\n",
              "    </tr>\n",
              "    <tr>\n",
              "      <th>Date</th>\n",
              "      <th></th>\n",
              "      <th></th>\n",
              "      <th></th>\n",
              "      <th></th>\n",
              "    </tr>\n",
              "  </thead>\n",
              "  <tbody>\n",
              "    <tr>\n",
              "      <th>2013-09-03</th>\n",
              "      <td>15.476472</td>\n",
              "      <td>-84.523528</td>\n",
              "      <td>-83.891027</td>\n",
              "      <td>331928800.0</td>\n",
              "    </tr>\n",
              "    <tr>\n",
              "      <th>2013-09-04</th>\n",
              "      <td>15.796753</td>\n",
              "      <td>-84.203247</td>\n",
              "      <td>-83.607362</td>\n",
              "      <td>345032800.0</td>\n",
              "    </tr>\n",
              "    <tr>\n",
              "      <th>2013-09-05</th>\n",
              "      <td>15.688388</td>\n",
              "      <td>-84.311612</td>\n",
              "      <td>-83.811129</td>\n",
              "      <td>236367600.0</td>\n",
              "    </tr>\n",
              "    <tr>\n",
              "      <th>2013-09-06</th>\n",
              "      <td>15.781833</td>\n",
              "      <td>-84.218167</td>\n",
              "      <td>-82.521513</td>\n",
              "      <td>359525600.0</td>\n",
              "    </tr>\n",
              "    <tr>\n",
              "      <th>2013-09-09</th>\n",
              "      <td>16.033661</td>\n",
              "      <td>-83.966339</td>\n",
              "      <td>-83.379463</td>\n",
              "      <td>340687200.0</td>\n",
              "    </tr>\n",
              "  </tbody>\n",
              "</table>\n",
              "</div>"
            ],
            "text/plain": [
              "            Adj_Close  PCT_change     HL_PCT   Adj_Volume\n",
              "Date                                                     \n",
              "2013-09-03  15.476472  -84.523528 -83.891027  331928800.0\n",
              "2013-09-04  15.796753  -84.203247 -83.607362  345032800.0\n",
              "2013-09-05  15.688388  -84.311612 -83.811129  236367600.0\n",
              "2013-09-06  15.781833  -84.218167 -82.521513  359525600.0\n",
              "2013-09-09  16.033661  -83.966339 -83.379463  340687200.0"
            ]
          },
          "metadata": {
            "tags": []
          },
          "execution_count": 18
        }
      ]
    },
    {
      "cell_type": "code",
      "metadata": {
        "colab": {
          "base_uri": "https://localhost:8080/"
        },
        "id": "N1sBBYCL4edA",
        "outputId": "c81068c4-2471-4362-e4e6-ad4dad993ef4"
      },
      "source": [
        "forecast_col = 'Adj_Close'\r\n",
        "df2.fillna(value=-99999, inplace=True)\r\n",
        "forecast_out = int(math.ceil(0.01 * len(df2)))"
      ],
      "execution_count": null,
      "outputs": [
        {
          "output_type": "stream",
          "text": [
            "/usr/local/lib/python3.6/dist-packages/pandas/core/frame.py:4327: SettingWithCopyWarning: \n",
            "A value is trying to be set on a copy of a slice from a DataFrame\n",
            "\n",
            "See the caveats in the documentation: https://pandas.pydata.org/pandas-docs/stable/user_guide/indexing.html#returning-a-view-versus-a-copy\n",
            "  downcast=downcast,\n"
          ],
          "name": "stderr"
        }
      ]
    },
    {
      "cell_type": "code",
      "metadata": {
        "colab": {
          "base_uri": "https://localhost:8080/"
        },
        "id": "PWqWxS7M4_sM",
        "outputId": "2f583cf3-c9f2-423a-ed1f-73974b5cf94e"
      },
      "source": [
        "df2['label'] = df2[forecast_col].shift(-forecast_out)"
      ],
      "execution_count": null,
      "outputs": [
        {
          "output_type": "stream",
          "text": [
            "/usr/local/lib/python3.6/dist-packages/ipykernel_launcher.py:1: SettingWithCopyWarning: \n",
            "A value is trying to be set on a copy of a slice from a DataFrame.\n",
            "Try using .loc[row_indexer,col_indexer] = value instead\n",
            "\n",
            "See the caveats in the documentation: https://pandas.pydata.org/pandas-docs/stable/user_guide/indexing.html#returning-a-view-versus-a-copy\n",
            "  \"\"\"Entry point for launching an IPython kernel.\n"
          ],
          "name": "stderr"
        }
      ]
    },
    {
      "cell_type": "code",
      "metadata": {
        "colab": {
          "base_uri": "https://localhost:8080/",
          "height": 377
        },
        "id": "Dh9EnSFuJsOl",
        "outputId": "03c9c354-9fdc-45c0-9aab-c64f4e75b613"
      },
      "source": [
        "df2.head(10)"
      ],
      "execution_count": null,
      "outputs": [
        {
          "output_type": "execute_result",
          "data": {
            "text/html": [
              "<div>\n",
              "<style scoped>\n",
              "    .dataframe tbody tr th:only-of-type {\n",
              "        vertical-align: middle;\n",
              "    }\n",
              "\n",
              "    .dataframe tbody tr th {\n",
              "        vertical-align: top;\n",
              "    }\n",
              "\n",
              "    .dataframe thead th {\n",
              "        text-align: right;\n",
              "    }\n",
              "</style>\n",
              "<table border=\"1\" class=\"dataframe\">\n",
              "  <thead>\n",
              "    <tr style=\"text-align: right;\">\n",
              "      <th></th>\n",
              "      <th>Adj_Close</th>\n",
              "      <th>PCT_change</th>\n",
              "      <th>HL_PCT</th>\n",
              "      <th>Adj_Volume</th>\n",
              "      <th>label</th>\n",
              "    </tr>\n",
              "    <tr>\n",
              "      <th>Date</th>\n",
              "      <th></th>\n",
              "      <th></th>\n",
              "      <th></th>\n",
              "      <th></th>\n",
              "      <th></th>\n",
              "    </tr>\n",
              "  </thead>\n",
              "  <tbody>\n",
              "    <tr>\n",
              "      <th>2013-09-03</th>\n",
              "      <td>15.476472</td>\n",
              "      <td>-84.523528</td>\n",
              "      <td>-83.891027</td>\n",
              "      <td>331928800.0</td>\n",
              "      <td>14.719406</td>\n",
              "    </tr>\n",
              "    <tr>\n",
              "      <th>2013-09-04</th>\n",
              "      <td>15.796753</td>\n",
              "      <td>-84.203247</td>\n",
              "      <td>-83.607362</td>\n",
              "      <td>345032800.0</td>\n",
              "      <td>14.960780</td>\n",
              "    </tr>\n",
              "    <tr>\n",
              "      <th>2013-09-05</th>\n",
              "      <td>15.688388</td>\n",
              "      <td>-84.311612</td>\n",
              "      <td>-83.811129</td>\n",
              "      <td>236367600.0</td>\n",
              "      <td>14.805882</td>\n",
              "    </tr>\n",
              "    <tr>\n",
              "      <th>2013-09-06</th>\n",
              "      <td>15.781833</td>\n",
              "      <td>-84.218167</td>\n",
              "      <td>-82.521513</td>\n",
              "      <td>359525600.0</td>\n",
              "      <td>15.541726</td>\n",
              "    </tr>\n",
              "    <tr>\n",
              "      <th>2013-09-09</th>\n",
              "      <td>16.033661</td>\n",
              "      <td>-83.966339</td>\n",
              "      <td>-83.379463</td>\n",
              "      <td>340687200.0</td>\n",
              "      <td>15.492944</td>\n",
              "    </tr>\n",
              "    <tr>\n",
              "      <th>2013-09-10</th>\n",
              "      <td>15.668432</td>\n",
              "      <td>-84.331568</td>\n",
              "      <td>-82.886654</td>\n",
              "      <td>743195600.0</td>\n",
              "      <td>15.253154</td>\n",
              "    </tr>\n",
              "    <tr>\n",
              "      <th>2013-09-11</th>\n",
              "      <td>14.815385</td>\n",
              "      <td>-85.184615</td>\n",
              "      <td>-84.375147</td>\n",
              "      <td>898696400.0</td>\n",
              "      <td>15.401716</td>\n",
              "    </tr>\n",
              "    <tr>\n",
              "      <th>2013-09-12</th>\n",
              "      <td>14.973134</td>\n",
              "      <td>-85.026866</td>\n",
              "      <td>-83.527835</td>\n",
              "      <td>404051200.0</td>\n",
              "      <td>15.291799</td>\n",
              "    </tr>\n",
              "    <tr>\n",
              "      <th>2013-09-13</th>\n",
              "      <td>14.726374</td>\n",
              "      <td>-85.273626</td>\n",
              "      <td>-85.011113</td>\n",
              "      <td>298835600.0</td>\n",
              "      <td>15.101740</td>\n",
              "    </tr>\n",
              "    <tr>\n",
              "      <th>2013-09-16</th>\n",
              "      <td>14.258197</td>\n",
              "      <td>-85.741803</td>\n",
              "      <td>-84.733572</td>\n",
              "      <td>543706800.0</td>\n",
              "      <td>15.456833</td>\n",
              "    </tr>\n",
              "  </tbody>\n",
              "</table>\n",
              "</div>"
            ],
            "text/plain": [
              "            Adj_Close  PCT_change     HL_PCT   Adj_Volume      label\n",
              "Date                                                                \n",
              "2013-09-03  15.476472  -84.523528 -83.891027  331928800.0  14.719406\n",
              "2013-09-04  15.796753  -84.203247 -83.607362  345032800.0  14.960780\n",
              "2013-09-05  15.688388  -84.311612 -83.811129  236367600.0  14.805882\n",
              "2013-09-06  15.781833  -84.218167 -82.521513  359525600.0  15.541726\n",
              "2013-09-09  16.033661  -83.966339 -83.379463  340687200.0  15.492944\n",
              "2013-09-10  15.668432  -84.331568 -82.886654  743195600.0  15.253154\n",
              "2013-09-11  14.815385  -85.184615 -84.375147  898696400.0  15.401716\n",
              "2013-09-12  14.973134  -85.026866 -83.527835  404051200.0  15.291799\n",
              "2013-09-13  14.726374  -85.273626 -85.011113  298835600.0  15.101740\n",
              "2013-09-16  14.258197  -85.741803 -84.733572  543706800.0  15.456833"
            ]
          },
          "metadata": {
            "tags": []
          },
          "execution_count": 38
        }
      ]
    },
    {
      "cell_type": "code",
      "metadata": {
        "colab": {
          "base_uri": "https://localhost:8080/"
        },
        "id": "wBSurWbVKO16",
        "outputId": "f552a272-4b23-40f0-dad6-a2d003a70e17"
      },
      "source": [
        "df2.dropna(inplace=True)"
      ],
      "execution_count": null,
      "outputs": [
        {
          "output_type": "stream",
          "text": [
            "/usr/local/lib/python3.6/dist-packages/ipykernel_launcher.py:1: SettingWithCopyWarning: \n",
            "A value is trying to be set on a copy of a slice from a DataFrame\n",
            "\n",
            "See the caveats in the documentation: https://pandas.pydata.org/pandas-docs/stable/user_guide/indexing.html#returning-a-view-versus-a-copy\n",
            "  \"\"\"Entry point for launching an IPython kernel.\n"
          ],
          "name": "stderr"
        }
      ]
    },
    {
      "cell_type": "markdown",
      "metadata": {
        "id": "i-Ft9mGfVIMw"
      },
      "source": [
        "**Scale the data and fit to the classifier**"
      ]
    },
    {
      "cell_type": "code",
      "metadata": {
        "id": "tkbPfD0GKgMa"
      },
      "source": [
        "# matrix of features\r\n",
        "x = np.array(df2.drop(['label'], 1)) #independant var\r\n",
        "y = np.array(df2['label']) #dependant var"
      ],
      "execution_count": null,
      "outputs": []
    },
    {
      "cell_type": "code",
      "metadata": {
        "id": "o0NX9zgtKf9z"
      },
      "source": [
        "# Scaling the features\r\n",
        "x = preprocessing.scale(x)"
      ],
      "execution_count": null,
      "outputs": []
    },
    {
      "cell_type": "code",
      "metadata": {
        "id": "ZIXtxu7DKfvn"
      },
      "source": [
        "from sklearn.model_selection import train_test_split\r\n",
        "x_train, x_test, y_train, y_test = train_test_split(X, y, test_size=0.2)"
      ],
      "execution_count": null,
      "outputs": []
    },
    {
      "cell_type": "code",
      "metadata": {
        "colab": {
          "base_uri": "https://localhost:8080/"
        },
        "id": "WAYgI6WIMj5Y",
        "outputId": "4d3e9875-d290-425d-b824-7d7945f86552"
      },
      "source": [
        "#fitting linear regression to the training set\r\n",
        "from sklearn.linear_model import LinearRegression\r\n",
        "classifier = LinearRegression()\r\n",
        "classifier.fit(x_train,y_train)"
      ],
      "execution_count": null,
      "outputs": [
        {
          "output_type": "execute_result",
          "data": {
            "text/plain": [
              "LinearRegression(copy_X=True, fit_intercept=True, n_jobs=None, normalize=False)"
            ]
          },
          "metadata": {
            "tags": []
          },
          "execution_count": 50
        }
      ]
    },
    {
      "cell_type": "code",
      "metadata": {
        "colab": {
          "base_uri": "https://localhost:8080/"
        },
        "id": "sMoLRBsmMjdr",
        "outputId": "201b79e2-4568-4515-adac-929bcdb2a096"
      },
      "source": [
        "confidence_score = classifier.score(x_test, y_test)\r\n",
        "confidence_score"
      ],
      "execution_count": null,
      "outputs": [
        {
          "output_type": "execute_result",
          "data": {
            "text/plain": [
              "0.9598480584217722"
            ]
          },
          "metadata": {
            "tags": []
          },
          "execution_count": 51
        }
      ]
    },
    {
      "cell_type": "code",
      "metadata": {
        "colab": {
          "base_uri": "https://localhost:8080/"
        },
        "id": "MIiEjz6fMjrD",
        "outputId": "9823b906-b62f-47f4-b3e1-33a694c9ebca"
      },
      "source": [
        "print(f'The Intercept is :\\n {classifier.intercept_}')\r\n",
        "feature_columns = ['Adj_Close','PCT_change','HL_PCT','Adj_Volume']\r\n",
        "a = zip(feature_columns, classifier.coef_)\r\n",
        "print(f'The Co_efficient is :\\n {tuple(a)}')\r\n"
      ],
      "execution_count": null,
      "outputs": [
        {
          "output_type": "stream",
          "text": [
            "The Intercept is :\n",
            " 47.158728981894754\n",
            "The Co_efficient is :\n",
            " (('Adj_Close', 0.5247009867283015), ('PCT_change', 0.5247009894250081), ('HL_PCT', -0.06057311756700411), ('Adj_Volume', -5.699192229258188e-10))\n"
          ],
          "name": "stdout"
        }
      ]
    },
    {
      "cell_type": "code",
      "metadata": {
        "id": "x27WnTM4eNYF"
      },
      "source": [
        "# Predicting the Test set results\r\n",
        "y_pred = classifier.predict(x_test)"
      ],
      "execution_count": null,
      "outputs": []
    },
    {
      "cell_type": "markdown",
      "metadata": {
        "id": "g49-CV4aVetr"
      },
      "source": [
        "**Evaluate the model using the accuracy matrix**"
      ]
    },
    {
      "cell_type": "code",
      "metadata": {
        "colab": {
          "base_uri": "https://localhost:8080/"
        },
        "id": "PisUUGf1culE",
        "outputId": "93a33c3f-410d-4dfa-a4c0-afcc6ffb11b9"
      },
      "source": [
        "from sklearn.metrics import mean_squared_error,r2_score\r\n",
        "\r\n",
        "# The mean squared error\r\n",
        "print('Mean squared error: %.2f'\r\n",
        "      % mean_squared_error(y_test, y_pred))\r\n",
        "# The coefficient of determination: 1 is perfect prediction\r\n",
        "print('Coefficient of determination: %.2f'\r\n",
        "      % r2_score(y_test, y_pred))\r\n"
      ],
      "execution_count": null,
      "outputs": [
        {
          "output_type": "stream",
          "text": [
            "Mean squared error: 1.38\n",
            "Coefficient of determination: 0.96\n"
          ],
          "name": "stdout"
        }
      ]
    }
  ]
}